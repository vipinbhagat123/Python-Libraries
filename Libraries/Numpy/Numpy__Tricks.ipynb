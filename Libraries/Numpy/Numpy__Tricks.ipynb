{
  "nbformat": 4,
  "nbformat_minor": 0,
  "metadata": {
    "colab": {
      "provenance": []
    },
    "kernelspec": {
      "name": "python3",
      "display_name": "Python 3"
    },
    "language_info": {
      "name": "python"
    }
  },
  "cells": [
    {
      "cell_type": "code",
      "execution_count": 1,
      "metadata": {
        "id": "z0X2Kl_Kw9v6"
      },
      "outputs": [],
      "source": [
        "import numpy as np"
      ]
    },
    {
      "cell_type": "code",
      "source": [
        "a=np.random.randint(1,100,15)\n",
        "a"
      ],
      "metadata": {
        "colab": {
          "base_uri": "https://localhost:8080/"
        },
        "id": "e1LJoHoZxGHd",
        "outputId": "d8d7ae97-1b98-4be0-c8ee-9fb45cb32814"
      },
      "execution_count": 2,
      "outputs": [
        {
          "output_type": "execute_result",
          "data": {
            "text/plain": [
              "array([ 3, 79, 59, 28,  9, 84, 88, 29,  4, 68, 68, 86, 16, 37, 16])"
            ]
          },
          "metadata": {},
          "execution_count": 2
        }
      ]
    },
    {
      "cell_type": "code",
      "source": [
        "np.sort(a)"
      ],
      "metadata": {
        "colab": {
          "base_uri": "https://localhost:8080/"
        },
        "id": "1jbV9L34xttS",
        "outputId": "74d5fdde-03f7-4c67-fcbf-b1b172b739f6"
      },
      "execution_count": 3,
      "outputs": [
        {
          "output_type": "execute_result",
          "data": {
            "text/plain": [
              "array([ 3,  4,  9, 16, 16, 28, 29, 37, 59, 68, 68, 79, 84, 86, 88])"
            ]
          },
          "metadata": {},
          "execution_count": 3
        }
      ]
    },
    {
      "cell_type": "code",
      "source": [
        "b=np.random.randint(1,100,24).reshape(6,4)\n",
        "b"
      ],
      "metadata": {
        "colab": {
          "base_uri": "https://localhost:8080/"
        },
        "id": "mJLdPF7hyh77",
        "outputId": "a3c5b72d-378a-4983-9433-bf5299e370ca"
      },
      "execution_count": 4,
      "outputs": [
        {
          "output_type": "execute_result",
          "data": {
            "text/plain": [
              "array([[ 5, 11,  3, 85],\n",
              "       [23, 87, 80, 82],\n",
              "       [85, 50, 22, 90],\n",
              "       [15, 86, 22,  2],\n",
              "       [37,  9, 29, 56],\n",
              "       [46, 53, 74, 79]])"
            ]
          },
          "metadata": {},
          "execution_count": 4
        }
      ]
    },
    {
      "cell_type": "code",
      "source": [
        "np.sort(b) # we can do also by using rows and columns using axis"
      ],
      "metadata": {
        "colab": {
          "base_uri": "https://localhost:8080/"
        },
        "id": "dS1xKjfd2C7p",
        "outputId": "e1954198-f117-4dc4-9e5b-0a740c53268e"
      },
      "execution_count": 5,
      "outputs": [
        {
          "output_type": "execute_result",
          "data": {
            "text/plain": [
              "array([[ 3,  5, 11, 85],\n",
              "       [23, 80, 82, 87],\n",
              "       [22, 50, 85, 90],\n",
              "       [ 2, 15, 22, 86],\n",
              "       [ 9, 29, 37, 56],\n",
              "       [46, 53, 74, 79]])"
            ]
          },
          "metadata": {},
          "execution_count": 5
        }
      ]
    },
    {
      "cell_type": "markdown",
      "source": [
        "Np.append"
      ],
      "metadata": {
        "id": "_e3Zwe5eDyuq"
      }
    },
    {
      "cell_type": "code",
      "source": [
        "np.append(a, 200)"
      ],
      "metadata": {
        "colab": {
          "base_uri": "https://localhost:8080/"
        },
        "id": "eNmChT4KDxR-",
        "outputId": "f9b6e9e3-7505-4004-8376-006841faecdf"
      },
      "execution_count": 6,
      "outputs": [
        {
          "output_type": "execute_result",
          "data": {
            "text/plain": [
              "array([  3,  79,  59,  28,   9,  84,  88,  29,   4,  68,  68,  86,  16,\n",
              "        37,  16, 200])"
            ]
          },
          "metadata": {},
          "execution_count": 6
        }
      ]
    },
    {
      "cell_type": "code",
      "source": [
        "b"
      ],
      "metadata": {
        "colab": {
          "base_uri": "https://localhost:8080/"
        },
        "id": "YWxhUoNpD7cl",
        "outputId": "40ef561b-0548-47f6-c4c3-52a65540ac4b"
      },
      "execution_count": 7,
      "outputs": [
        {
          "output_type": "execute_result",
          "data": {
            "text/plain": [
              "array([[ 5, 11,  3, 85],\n",
              "       [23, 87, 80, 82],\n",
              "       [85, 50, 22, 90],\n",
              "       [15, 86, 22,  2],\n",
              "       [37,  9, 29, 56],\n",
              "       [46, 53, 74, 79]])"
            ]
          },
          "metadata": {},
          "execution_count": 7
        }
      ]
    },
    {
      "cell_type": "code",
      "source": [
        "np.append(b, np.ones((b.shape[0],1)), axis=1)"
      ],
      "metadata": {
        "colab": {
          "base_uri": "https://localhost:8080/"
        },
        "id": "-BsZJ9VFD-up",
        "outputId": "5333a69a-28d2-438f-9a7f-1adfee48d1b0"
      },
      "execution_count": 8,
      "outputs": [
        {
          "output_type": "execute_result",
          "data": {
            "text/plain": [
              "array([[ 5., 11.,  3., 85.,  1.],\n",
              "       [23., 87., 80., 82.,  1.],\n",
              "       [85., 50., 22., 90.,  1.],\n",
              "       [15., 86., 22.,  2.,  1.],\n",
              "       [37.,  9., 29., 56.,  1.],\n",
              "       [46., 53., 74., 79.,  1.]])"
            ]
          },
          "metadata": {},
          "execution_count": 8
        }
      ]
    },
    {
      "cell_type": "markdown",
      "source": [
        "Np.concatenate"
      ],
      "metadata": {
        "id": "AccARZKwEscK"
      }
    },
    {
      "cell_type": "code",
      "source": [
        "c=np.arange(6).reshape(2,3)\n",
        "d=np.arange(6,12).reshape(2,3)\n",
        "print(c)\n",
        "print(d)"
      ],
      "metadata": {
        "colab": {
          "base_uri": "https://localhost:8080/"
        },
        "id": "onmaWtqrEePO",
        "outputId": "876c100c-7f25-4b3c-a0a5-b5d157daf629"
      },
      "execution_count": 9,
      "outputs": [
        {
          "output_type": "stream",
          "name": "stdout",
          "text": [
            "[[0 1 2]\n",
            " [3 4 5]]\n",
            "[[ 6  7  8]\n",
            " [ 9 10 11]]\n"
          ]
        }
      ]
    },
    {
      "cell_type": "code",
      "source": [
        "np.concatenate((c,d), axis=0)"
      ],
      "metadata": {
        "colab": {
          "base_uri": "https://localhost:8080/"
        },
        "id": "CFEKqdLSE2WZ",
        "outputId": "f655ff98-600e-4d13-c0b1-ac97f414be51"
      },
      "execution_count": 10,
      "outputs": [
        {
          "output_type": "execute_result",
          "data": {
            "text/plain": [
              "array([[ 0,  1,  2],\n",
              "       [ 3,  4,  5],\n",
              "       [ 6,  7,  8],\n",
              "       [ 9, 10, 11]])"
            ]
          },
          "metadata": {},
          "execution_count": 10
        }
      ]
    },
    {
      "cell_type": "code",
      "source": [
        "np.concatenate((c,d), axis=1)"
      ],
      "metadata": {
        "colab": {
          "base_uri": "https://localhost:8080/"
        },
        "id": "N30zBW2uE7g5",
        "outputId": "1dec0a50-a2d2-4a3d-a9d3-9f87acef9475"
      },
      "execution_count": 11,
      "outputs": [
        {
          "output_type": "execute_result",
          "data": {
            "text/plain": [
              "array([[ 0,  1,  2,  6,  7,  8],\n",
              "       [ 3,  4,  5,  9, 10, 11]])"
            ]
          },
          "metadata": {},
          "execution_count": 11
        }
      ]
    },
    {
      "cell_type": "markdown",
      "source": [
        "Np.Unique"
      ],
      "metadata": {
        "id": "GnC-lO3FFNKj"
      }
    },
    {
      "cell_type": "code",
      "source": [
        "e=np.array([1,1,2,2,3,3,4,4,5,5,6,6])"
      ],
      "metadata": {
        "id": "iPQaKNEPFCf1"
      },
      "execution_count": 12,
      "outputs": []
    },
    {
      "cell_type": "code",
      "source": [
        "np.unique(e)"
      ],
      "metadata": {
        "colab": {
          "base_uri": "https://localhost:8080/"
        },
        "id": "2HQHW2nlFUNh",
        "outputId": "d6940800-39b1-4245-8e97-fc372cc6aeb2"
      },
      "execution_count": 13,
      "outputs": [
        {
          "output_type": "execute_result",
          "data": {
            "text/plain": [
              "array([1, 2, 3, 4, 5, 6])"
            ]
          },
          "metadata": {},
          "execution_count": 13
        }
      ]
    },
    {
      "cell_type": "markdown",
      "source": [
        "Np.expand_dims"
      ],
      "metadata": {
        "id": "91KoPLJ8FhS5"
      }
    },
    {
      "cell_type": "code",
      "source": [
        "a"
      ],
      "metadata": {
        "colab": {
          "base_uri": "https://localhost:8080/"
        },
        "id": "N8peJsHwFVx5",
        "outputId": "f6e53ea7-8730-4516-d043-f21c55c3cbca"
      },
      "execution_count": 14,
      "outputs": [
        {
          "output_type": "execute_result",
          "data": {
            "text/plain": [
              "array([ 3, 79, 59, 28,  9, 84, 88, 29,  4, 68, 68, 86, 16, 37, 16])"
            ]
          },
          "metadata": {},
          "execution_count": 14
        }
      ]
    },
    {
      "cell_type": "code",
      "source": [
        "a.shape"
      ],
      "metadata": {
        "colab": {
          "base_uri": "https://localhost:8080/"
        },
        "id": "3WDRCj4tFqL4",
        "outputId": "3d33f7ed-7b15-4fa4-c0e7-a5cf32ba470d"
      },
      "execution_count": 15,
      "outputs": [
        {
          "output_type": "execute_result",
          "data": {
            "text/plain": [
              "(15,)"
            ]
          },
          "metadata": {},
          "execution_count": 15
        }
      ]
    },
    {
      "cell_type": "code",
      "source": [
        "np.expand_dims(a, axis=0)"
      ],
      "metadata": {
        "colab": {
          "base_uri": "https://localhost:8080/"
        },
        "id": "cH8I6efCFrUv",
        "outputId": "50254753-1bf9-4d91-95af-cd7438c91631"
      },
      "execution_count": 16,
      "outputs": [
        {
          "output_type": "execute_result",
          "data": {
            "text/plain": [
              "array([[ 3, 79, 59, 28,  9, 84, 88, 29,  4, 68, 68, 86, 16, 37, 16]])"
            ]
          },
          "metadata": {},
          "execution_count": 16
        }
      ]
    },
    {
      "cell_type": "code",
      "source": [
        "np.expand_dims(a, axis=0).shape"
      ],
      "metadata": {
        "colab": {
          "base_uri": "https://localhost:8080/"
        },
        "id": "1TRMb1TMFuVT",
        "outputId": "4c927fb3-30ea-4caf-983e-af56eb0e2f16"
      },
      "execution_count": 17,
      "outputs": [
        {
          "output_type": "execute_result",
          "data": {
            "text/plain": [
              "(1, 15)"
            ]
          },
          "metadata": {},
          "execution_count": 17
        }
      ]
    },
    {
      "cell_type": "code",
      "source": [
        "np.expand_dims(a, axis=1)"
      ],
      "metadata": {
        "colab": {
          "base_uri": "https://localhost:8080/"
        },
        "id": "ab_icgcfFyXz",
        "outputId": "99499e3c-a891-4984-c058-2d0fee4ef755"
      },
      "execution_count": 18,
      "outputs": [
        {
          "output_type": "execute_result",
          "data": {
            "text/plain": [
              "array([[ 3],\n",
              "       [79],\n",
              "       [59],\n",
              "       [28],\n",
              "       [ 9],\n",
              "       [84],\n",
              "       [88],\n",
              "       [29],\n",
              "       [ 4],\n",
              "       [68],\n",
              "       [68],\n",
              "       [86],\n",
              "       [16],\n",
              "       [37],\n",
              "       [16]])"
            ]
          },
          "metadata": {},
          "execution_count": 18
        }
      ]
    },
    {
      "cell_type": "code",
      "source": [
        "np.expand_dims(a, axis=1).shape"
      ],
      "metadata": {
        "colab": {
          "base_uri": "https://localhost:8080/"
        },
        "id": "qW27VCVRF5IZ",
        "outputId": "061611b0-ca5d-42f9-dfbb-6b1fa13b1998"
      },
      "execution_count": 19,
      "outputs": [
        {
          "output_type": "execute_result",
          "data": {
            "text/plain": [
              "(15, 1)"
            ]
          },
          "metadata": {},
          "execution_count": 19
        }
      ]
    },
    {
      "cell_type": "markdown",
      "source": [
        "Np.where"
      ],
      "metadata": {
        "id": "ooymr1z6GL15"
      }
    },
    {
      "cell_type": "code",
      "source": [
        "a"
      ],
      "metadata": {
        "colab": {
          "base_uri": "https://localhost:8080/"
        },
        "id": "Uc9wwjEMF9jW",
        "outputId": "820a8a8f-9f19-4482-f182-3ef9d7d04b3c"
      },
      "execution_count": 20,
      "outputs": [
        {
          "output_type": "execute_result",
          "data": {
            "text/plain": [
              "array([ 3, 79, 59, 28,  9, 84, 88, 29,  4, 68, 68, 86, 16, 37, 16])"
            ]
          },
          "metadata": {},
          "execution_count": 20
        }
      ]
    },
    {
      "cell_type": "code",
      "source": [
        "np.where(a>50)"
      ],
      "metadata": {
        "colab": {
          "base_uri": "https://localhost:8080/"
        },
        "id": "OIqdHZ6yGSwW",
        "outputId": "bfcb9262-4d1e-40e2-813f-e473e43a6a2b"
      },
      "execution_count": 21,
      "outputs": [
        {
          "output_type": "execute_result",
          "data": {
            "text/plain": [
              "(array([ 1,  2,  5,  6,  9, 10, 11]),)"
            ]
          },
          "metadata": {},
          "execution_count": 21
        }
      ]
    },
    {
      "cell_type": "code",
      "source": [
        "np.where(a>50, 0, a)"
      ],
      "metadata": {
        "colab": {
          "base_uri": "https://localhost:8080/"
        },
        "id": "j1d1JvxcGUyb",
        "outputId": "e55b8d2d-5fd0-4315-9bc0-e65049902168"
      },
      "execution_count": 22,
      "outputs": [
        {
          "output_type": "execute_result",
          "data": {
            "text/plain": [
              "array([ 3,  0,  0, 28,  9,  0,  0, 29,  4,  0,  0,  0, 16, 37, 16])"
            ]
          },
          "metadata": {},
          "execution_count": 22
        }
      ]
    },
    {
      "cell_type": "code",
      "source": [
        "np.where(a%2==0, 0,a)"
      ],
      "metadata": {
        "colab": {
          "base_uri": "https://localhost:8080/"
        },
        "id": "6pgz1T1NH2nW",
        "outputId": "7eaca7ac-5f6e-4df2-dd99-fd97ad236bd9"
      },
      "execution_count": 23,
      "outputs": [
        {
          "output_type": "execute_result",
          "data": {
            "text/plain": [
              "array([ 3, 79, 59,  0,  9,  0,  0, 29,  0,  0,  0,  0,  0, 37,  0])"
            ]
          },
          "metadata": {},
          "execution_count": 23
        }
      ]
    },
    {
      "cell_type": "markdown",
      "source": [
        "np.argmax"
      ],
      "metadata": {
        "id": "qtDwNWHnIHLU"
      }
    },
    {
      "cell_type": "code",
      "source": [
        "a"
      ],
      "metadata": {
        "colab": {
          "base_uri": "https://localhost:8080/"
        },
        "id": "KB6kCz7_H-_8",
        "outputId": "a4473e97-8aff-4ddf-c0fc-8874b3284b8c"
      },
      "execution_count": 24,
      "outputs": [
        {
          "output_type": "execute_result",
          "data": {
            "text/plain": [
              "array([ 3, 79, 59, 28,  9, 84, 88, 29,  4, 68, 68, 86, 16, 37, 16])"
            ]
          },
          "metadata": {},
          "execution_count": 24
        }
      ]
    },
    {
      "cell_type": "code",
      "source": [
        "np.argmax(a)\n"
      ],
      "metadata": {
        "colab": {
          "base_uri": "https://localhost:8080/"
        },
        "id": "1C_FU9ygSLmm",
        "outputId": "97225bcd-f858-49fb-90f1-080b0e05189a"
      },
      "execution_count": 25,
      "outputs": [
        {
          "output_type": "execute_result",
          "data": {
            "text/plain": [
              "6"
            ]
          },
          "metadata": {},
          "execution_count": 25
        }
      ]
    },
    {
      "cell_type": "code",
      "source": [
        "b"
      ],
      "metadata": {
        "colab": {
          "base_uri": "https://localhost:8080/"
        },
        "id": "wFgJS0gpSPX6",
        "outputId": "b04ee3b1-ee2a-47a0-fe20-5727717deb7a"
      },
      "execution_count": 26,
      "outputs": [
        {
          "output_type": "execute_result",
          "data": {
            "text/plain": [
              "array([[ 5, 11,  3, 85],\n",
              "       [23, 87, 80, 82],\n",
              "       [85, 50, 22, 90],\n",
              "       [15, 86, 22,  2],\n",
              "       [37,  9, 29, 56],\n",
              "       [46, 53, 74, 79]])"
            ]
          },
          "metadata": {},
          "execution_count": 26
        }
      ]
    },
    {
      "cell_type": "code",
      "source": [
        "np.argmax(b, axis=0)"
      ],
      "metadata": {
        "colab": {
          "base_uri": "https://localhost:8080/"
        },
        "id": "OOsoc6mdSUBG",
        "outputId": "38d3a8f4-bf4a-4006-c347-c517f75c30be"
      },
      "execution_count": 27,
      "outputs": [
        {
          "output_type": "execute_result",
          "data": {
            "text/plain": [
              "array([2, 1, 1, 2])"
            ]
          },
          "metadata": {},
          "execution_count": 27
        }
      ]
    },
    {
      "cell_type": "markdown",
      "source": [
        "np.argmin"
      ],
      "metadata": {
        "id": "-OC2VndsSgpK"
      }
    },
    {
      "cell_type": "code",
      "source": [
        "np.argmin(a)"
      ],
      "metadata": {
        "colab": {
          "base_uri": "https://localhost:8080/"
        },
        "id": "S4bo2-EySV0-",
        "outputId": "71bc312b-44f5-4291-88d9-a1756afeb871"
      },
      "execution_count": 28,
      "outputs": [
        {
          "output_type": "execute_result",
          "data": {
            "text/plain": [
              "0"
            ]
          },
          "metadata": {},
          "execution_count": 28
        }
      ]
    },
    {
      "cell_type": "markdown",
      "source": [
        "Np.cumsum"
      ],
      "metadata": {
        "id": "aPVXH_WjSsWF"
      }
    },
    {
      "cell_type": "code",
      "source": [
        "a"
      ],
      "metadata": {
        "colab": {
          "base_uri": "https://localhost:8080/"
        },
        "id": "JJWah1cISjOg",
        "outputId": "d1d3516c-e7ba-4aab-d2f6-5bacbf98a239"
      },
      "execution_count": 29,
      "outputs": [
        {
          "output_type": "execute_result",
          "data": {
            "text/plain": [
              "array([ 3, 79, 59, 28,  9, 84, 88, 29,  4, 68, 68, 86, 16, 37, 16])"
            ]
          },
          "metadata": {},
          "execution_count": 29
        }
      ]
    },
    {
      "cell_type": "code",
      "source": [
        "np.cumsum(a)"
      ],
      "metadata": {
        "colab": {
          "base_uri": "https://localhost:8080/"
        },
        "id": "0jjMP5KGS8gf",
        "outputId": "58a48de2-48f4-4842-b093-9aaefdd10c82"
      },
      "execution_count": 30,
      "outputs": [
        {
          "output_type": "execute_result",
          "data": {
            "text/plain": [
              "array([  3,  82, 141, 169, 178, 262, 350, 379, 383, 451, 519, 605, 621,\n",
              "       658, 674])"
            ]
          },
          "metadata": {},
          "execution_count": 30
        }
      ]
    },
    {
      "cell_type": "code",
      "source": [
        "np.cumsum(b)"
      ],
      "metadata": {
        "colab": {
          "base_uri": "https://localhost:8080/"
        },
        "id": "8O0E12DDS9mQ",
        "outputId": "f2a03a88-7d42-45ab-8bc7-f5af28f09353"
      },
      "execution_count": 31,
      "outputs": [
        {
          "output_type": "execute_result",
          "data": {
            "text/plain": [
              "array([   5,   16,   19,  104,  127,  214,  294,  376,  461,  511,  533,\n",
              "        623,  638,  724,  746,  748,  785,  794,  823,  879,  925,  978,\n",
              "       1052, 1131])"
            ]
          },
          "metadata": {},
          "execution_count": 31
        }
      ]
    },
    {
      "cell_type": "code",
      "source": [
        "np.cumsum(b, axis=0)"
      ],
      "metadata": {
        "colab": {
          "base_uri": "https://localhost:8080/"
        },
        "id": "XwpVgv31S-mk",
        "outputId": "7c93dc4b-8e13-48f4-fd03-1880b12455c0"
      },
      "execution_count": 32,
      "outputs": [
        {
          "output_type": "execute_result",
          "data": {
            "text/plain": [
              "array([[  5,  11,   3,  85],\n",
              "       [ 28,  98,  83, 167],\n",
              "       [113, 148, 105, 257],\n",
              "       [128, 234, 127, 259],\n",
              "       [165, 243, 156, 315],\n",
              "       [211, 296, 230, 394]])"
            ]
          },
          "metadata": {},
          "execution_count": 32
        }
      ]
    },
    {
      "cell_type": "markdown",
      "source": [
        "np.cumprod"
      ],
      "metadata": {
        "id": "EG_gP5XXTF1g"
      }
    },
    {
      "cell_type": "code",
      "source": [
        "a"
      ],
      "metadata": {
        "colab": {
          "base_uri": "https://localhost:8080/"
        },
        "id": "d9FSkUnNTBQR",
        "outputId": "9e8bc756-f96e-43b9-9009-662a53cf99df"
      },
      "execution_count": 33,
      "outputs": [
        {
          "output_type": "execute_result",
          "data": {
            "text/plain": [
              "array([ 3, 79, 59, 28,  9, 84, 88, 29,  4, 68, 68, 86, 16, 37, 16])"
            ]
          },
          "metadata": {},
          "execution_count": 33
        }
      ]
    },
    {
      "cell_type": "code",
      "source": [
        "np.cumprod(a)"
      ],
      "metadata": {
        "colab": {
          "base_uri": "https://localhost:8080/"
        },
        "id": "5v87rWErTJHs",
        "outputId": "55f357a0-7d09-4d32-e79e-974b178b9e97"
      },
      "execution_count": 34,
      "outputs": [
        {
          "output_type": "execute_result",
          "data": {
            "text/plain": [
              "array([                   3,                  237,                13983,\n",
              "                     391524,              3523716,            295992144,\n",
              "                26047308672,         755371951488,        3021487805952,\n",
              "            205461170804736,    13971359614722048,  1201536926866096128,\n",
              "         777846756147986432, -8113158169943605248,  -683322203130822656])"
            ]
          },
          "metadata": {},
          "execution_count": 34
        }
      ]
    },
    {
      "cell_type": "markdown",
      "source": [
        "np.percentile"
      ],
      "metadata": {
        "id": "Qpi9iEEsTP_V"
      }
    },
    {
      "cell_type": "code",
      "source": [
        "a"
      ],
      "metadata": {
        "colab": {
          "base_uri": "https://localhost:8080/"
        },
        "id": "vZFC_wS9TKNy",
        "outputId": "5853283a-13b7-4687-dcab-fa667b8e0ee0"
      },
      "execution_count": 35,
      "outputs": [
        {
          "output_type": "execute_result",
          "data": {
            "text/plain": [
              "array([ 3, 79, 59, 28,  9, 84, 88, 29,  4, 68, 68, 86, 16, 37, 16])"
            ]
          },
          "metadata": {},
          "execution_count": 35
        }
      ]
    },
    {
      "cell_type": "code",
      "source": [
        "np.percentile(a,100)"
      ],
      "metadata": {
        "colab": {
          "base_uri": "https://localhost:8080/"
        },
        "id": "stbUdsaDTWKo",
        "outputId": "08d2461f-a1e4-4064-966b-ba9e09026206"
      },
      "execution_count": 36,
      "outputs": [
        {
          "output_type": "execute_result",
          "data": {
            "text/plain": [
              "88.0"
            ]
          },
          "metadata": {},
          "execution_count": 36
        }
      ]
    },
    {
      "cell_type": "code",
      "source": [
        "np.percentile(a, 0)"
      ],
      "metadata": {
        "colab": {
          "base_uri": "https://localhost:8080/"
        },
        "id": "ymWRD2HWTYMq",
        "outputId": "32fcb6b5-c4dd-4f91-d274-f6bedd814aa6"
      },
      "execution_count": 37,
      "outputs": [
        {
          "output_type": "execute_result",
          "data": {
            "text/plain": [
              "3.0"
            ]
          },
          "metadata": {},
          "execution_count": 37
        }
      ]
    },
    {
      "cell_type": "code",
      "source": [
        "np.percentile(a, 50)"
      ],
      "metadata": {
        "colab": {
          "base_uri": "https://localhost:8080/"
        },
        "id": "onHwS-VmTdY1",
        "outputId": "c7bca88a-767f-4ca6-9653-92202bae0498"
      },
      "execution_count": 38,
      "outputs": [
        {
          "output_type": "execute_result",
          "data": {
            "text/plain": [
              "37.0"
            ]
          },
          "metadata": {},
          "execution_count": 38
        }
      ]
    },
    {
      "cell_type": "code",
      "source": [
        "np.median(a)"
      ],
      "metadata": {
        "colab": {
          "base_uri": "https://localhost:8080/"
        },
        "id": "b-_mbul9TfgB",
        "outputId": "b28ba482-84e2-4b72-fb82-2e044526c0fc"
      },
      "execution_count": 39,
      "outputs": [
        {
          "output_type": "execute_result",
          "data": {
            "text/plain": [
              "37.0"
            ]
          },
          "metadata": {},
          "execution_count": 39
        }
      ]
    },
    {
      "cell_type": "markdown",
      "source": [
        "Np.histogram"
      ],
      "metadata": {
        "id": "e6aG-9yzVVwr"
      }
    },
    {
      "cell_type": "code",
      "source": [
        "np.histogram(a, bins=[0,10,20,30,40,50,60,70,80,90,100])"
      ],
      "metadata": {
        "colab": {
          "base_uri": "https://localhost:8080/"
        },
        "id": "XAVG537LTlrN",
        "outputId": "43241ca6-3565-4d7d-f47f-e5fd9744982e"
      },
      "execution_count": 40,
      "outputs": [
        {
          "output_type": "execute_result",
          "data": {
            "text/plain": [
              "(array([3, 2, 2, 1, 0, 1, 2, 1, 3, 0]),\n",
              " array([  0,  10,  20,  30,  40,  50,  60,  70,  80,  90, 100]))"
            ]
          },
          "metadata": {},
          "execution_count": 40
        }
      ]
    },
    {
      "cell_type": "markdown",
      "source": [
        "np.corrcoef"
      ],
      "metadata": {
        "id": "ytXfNu69V5lt"
      }
    },
    {
      "cell_type": "code",
      "source": [
        "salary=np.array([20000,40000,25000,35000,60000])\n",
        "experience=np.array([1,3,2,4,2])\n",
        "np.corrcoef(salary, experience)"
      ],
      "metadata": {
        "colab": {
          "base_uri": "https://localhost:8080/"
        },
        "id": "Uz95DwuvVr1V",
        "outputId": "f8cb217c-30b8-49d9-b6bb-f871c5640646"
      },
      "execution_count": 42,
      "outputs": [
        {
          "output_type": "execute_result",
          "data": {
            "text/plain": [
              "array([[1.        , 0.25344572],\n",
              "       [0.25344572, 1.        ]])"
            ]
          },
          "metadata": {},
          "execution_count": 42
        }
      ]
    },
    {
      "cell_type": "markdown",
      "source": [
        "np.isin"
      ],
      "metadata": {
        "id": "2RHuRKM0WXz_"
      }
    },
    {
      "cell_type": "code",
      "source": [
        "a"
      ],
      "metadata": {
        "colab": {
          "base_uri": "https://localhost:8080/"
        },
        "id": "n3zE04-yWIzL",
        "outputId": "0e487304-e346-4830-9a79-86477b37d23a"
      },
      "execution_count": 43,
      "outputs": [
        {
          "output_type": "execute_result",
          "data": {
            "text/plain": [
              "array([ 3, 79, 59, 28,  9, 84, 88, 29,  4, 68, 68, 86, 16, 37, 16])"
            ]
          },
          "metadata": {},
          "execution_count": 43
        }
      ]
    },
    {
      "cell_type": "code",
      "source": [
        "items=[10,20,30,40,50,60,70,80,90,100]\n",
        "\n",
        "np.isin(a, items)"
      ],
      "metadata": {
        "colab": {
          "base_uri": "https://localhost:8080/"
        },
        "id": "MShkHAzNWZ8S",
        "outputId": "ae150180-438a-4fa1-c69d-f1f15cd51142"
      },
      "execution_count": 44,
      "outputs": [
        {
          "output_type": "execute_result",
          "data": {
            "text/plain": [
              "array([False, False, False, False, False, False, False, False, False,\n",
              "       False, False, False, False, False, False])"
            ]
          },
          "metadata": {},
          "execution_count": 44
        }
      ]
    },
    {
      "cell_type": "markdown",
      "source": [
        "np.flip"
      ],
      "metadata": {
        "id": "OdfzimckWooI"
      }
    },
    {
      "cell_type": "code",
      "source": [
        "a"
      ],
      "metadata": {
        "colab": {
          "base_uri": "https://localhost:8080/"
        },
        "id": "YWaM1abgWldG",
        "outputId": "8677989d-8ad9-41ef-8a1f-e6d11981844d"
      },
      "execution_count": 45,
      "outputs": [
        {
          "output_type": "execute_result",
          "data": {
            "text/plain": [
              "array([ 3, 79, 59, 28,  9, 84, 88, 29,  4, 68, 68, 86, 16, 37, 16])"
            ]
          },
          "metadata": {},
          "execution_count": 45
        }
      ]
    },
    {
      "cell_type": "code",
      "source": [
        "np.flip(a)"
      ],
      "metadata": {
        "colab": {
          "base_uri": "https://localhost:8080/"
        },
        "id": "u7Rm5mDRWtd4",
        "outputId": "12a8b72b-aa32-47fe-8379-6d756ee9d5f7"
      },
      "execution_count": 46,
      "outputs": [
        {
          "output_type": "execute_result",
          "data": {
            "text/plain": [
              "array([16, 37, 16, 86, 68, 68,  4, 29, 88, 84,  9, 28, 59, 79,  3])"
            ]
          },
          "metadata": {},
          "execution_count": 46
        }
      ]
    },
    {
      "cell_type": "code",
      "source": [
        "b"
      ],
      "metadata": {
        "colab": {
          "base_uri": "https://localhost:8080/"
        },
        "id": "8dZR8tqJWuoT",
        "outputId": "6932ddb5-6f0f-40d7-ed85-92a02e23de4d"
      },
      "execution_count": 47,
      "outputs": [
        {
          "output_type": "execute_result",
          "data": {
            "text/plain": [
              "array([[ 5, 11,  3, 85],\n",
              "       [23, 87, 80, 82],\n",
              "       [85, 50, 22, 90],\n",
              "       [15, 86, 22,  2],\n",
              "       [37,  9, 29, 56],\n",
              "       [46, 53, 74, 79]])"
            ]
          },
          "metadata": {},
          "execution_count": 47
        }
      ]
    },
    {
      "cell_type": "code",
      "source": [
        "np.flip(b)"
      ],
      "metadata": {
        "colab": {
          "base_uri": "https://localhost:8080/"
        },
        "id": "9AunmZNaWxf5",
        "outputId": "7cb3df74-0441-4ebc-a889-151d98b60724"
      },
      "execution_count": 48,
      "outputs": [
        {
          "output_type": "execute_result",
          "data": {
            "text/plain": [
              "array([[79, 74, 53, 46],\n",
              "       [56, 29,  9, 37],\n",
              "       [ 2, 22, 86, 15],\n",
              "       [90, 22, 50, 85],\n",
              "       [82, 80, 87, 23],\n",
              "       [85,  3, 11,  5]])"
            ]
          },
          "metadata": {},
          "execution_count": 48
        }
      ]
    },
    {
      "cell_type": "code",
      "source": [
        "np.flip(b, axis=1)"
      ],
      "metadata": {
        "colab": {
          "base_uri": "https://localhost:8080/"
        },
        "id": "oOgnCyGnWyZi",
        "outputId": "40b9704d-0784-488b-c1ba-68191a67b454"
      },
      "execution_count": 49,
      "outputs": [
        {
          "output_type": "execute_result",
          "data": {
            "text/plain": [
              "array([[85,  3, 11,  5],\n",
              "       [82, 80, 87, 23],\n",
              "       [90, 22, 50, 85],\n",
              "       [ 2, 22, 86, 15],\n",
              "       [56, 29,  9, 37],\n",
              "       [79, 74, 53, 46]])"
            ]
          },
          "metadata": {},
          "execution_count": 49
        }
      ]
    },
    {
      "cell_type": "markdown",
      "source": [
        "np.put"
      ],
      "metadata": {
        "id": "jyqMFMunW9Fq"
      }
    },
    {
      "cell_type": "code",
      "source": [
        "a"
      ],
      "metadata": {
        "colab": {
          "base_uri": "https://localhost:8080/"
        },
        "id": "jZMoLyIPW4k0",
        "outputId": "89711e6e-18c7-47b0-aa51-aa810f93bd44"
      },
      "execution_count": 54,
      "outputs": [
        {
          "output_type": "execute_result",
          "data": {
            "text/plain": [
              "array([110, 530,  59, 343,   9,  84,  88,  29,   4,  68,  68,  86,  16,\n",
              "        37,  16])"
            ]
          },
          "metadata": {},
          "execution_count": 54
        }
      ]
    },
    {
      "cell_type": "code",
      "source": [
        "np.put(a, [0,1], [110,530])"
      ],
      "metadata": {
        "id": "XYtSb86TXAKj"
      },
      "execution_count": 51,
      "outputs": []
    },
    {
      "cell_type": "code",
      "source": [
        "np.put(a, [3],[343])"
      ],
      "metadata": {
        "id": "yHwcJJAtXLAu"
      },
      "execution_count": 53,
      "outputs": []
    },
    {
      "cell_type": "markdown",
      "source": [
        "np.delete"
      ],
      "metadata": {
        "id": "Ud_PSZwfXX9D"
      }
    },
    {
      "cell_type": "code",
      "source": [
        "a"
      ],
      "metadata": {
        "colab": {
          "base_uri": "https://localhost:8080/"
        },
        "id": "J8BL36IJXRVi",
        "outputId": "df202678-c378-4ff8-d8a6-defcfbd45d75"
      },
      "execution_count": 55,
      "outputs": [
        {
          "output_type": "execute_result",
          "data": {
            "text/plain": [
              "array([110, 530,  59, 343,   9,  84,  88,  29,   4,  68,  68,  86,  16,\n",
              "        37,  16])"
            ]
          },
          "metadata": {},
          "execution_count": 55
        }
      ]
    },
    {
      "cell_type": "code",
      "source": [
        "np.delete(a, 0)"
      ],
      "metadata": {
        "colab": {
          "base_uri": "https://localhost:8080/"
        },
        "id": "hQ4-snRbXb68",
        "outputId": "8deca5fe-323a-47c0-d5df-f41d4e8d30db"
      },
      "execution_count": 56,
      "outputs": [
        {
          "output_type": "execute_result",
          "data": {
            "text/plain": [
              "array([530,  59, 343,   9,  84,  88,  29,   4,  68,  68,  86,  16,  37,\n",
              "        16])"
            ]
          },
          "metadata": {},
          "execution_count": 56
        }
      ]
    },
    {
      "cell_type": "code",
      "source": [
        "np.delete(a, [2,4])"
      ],
      "metadata": {
        "colab": {
          "base_uri": "https://localhost:8080/"
        },
        "id": "4Hv6fXkFXdqC",
        "outputId": "fe942918-7cc6-4cad-ab5d-24f55473269a"
      },
      "execution_count": 58,
      "outputs": [
        {
          "output_type": "execute_result",
          "data": {
            "text/plain": [
              "array([110, 530, 343,  84,  88,  29,   4,  68,  68,  86,  16,  37,  16])"
            ]
          },
          "metadata": {},
          "execution_count": 58
        }
      ]
    },
    {
      "cell_type": "markdown",
      "source": [
        "set funcitons:\n",
        "np.union1d\n",
        "np.intersect1d\n",
        "np.setdiff1d\n",
        "np.setxor1d\n",
        "np.setxor1d\n",
        "np.in1d"
      ],
      "metadata": {
        "id": "7zGj_Q5mXpNH"
      }
    },
    {
      "cell_type": "code",
      "source": [
        "m=np.array([1,2,3,4,5])\n",
        "n=np.array([3,4,5,67,7])\n",
        "np.union1d(m,n)"
      ],
      "metadata": {
        "colab": {
          "base_uri": "https://localhost:8080/"
        },
        "id": "OJsHfZTgXh0W",
        "outputId": "17dacab7-4797-4706-e995-29185a55aba9"
      },
      "execution_count": 62,
      "outputs": [
        {
          "output_type": "execute_result",
          "data": {
            "text/plain": [
              "array([ 1,  2,  3,  4,  5,  7, 67])"
            ]
          },
          "metadata": {},
          "execution_count": 62
        }
      ]
    },
    {
      "cell_type": "code",
      "source": [
        "np.intersect1d(m,n)"
      ],
      "metadata": {
        "colab": {
          "base_uri": "https://localhost:8080/"
        },
        "id": "9ECi5Cw2YAJJ",
        "outputId": "92e8c066-f857-4611-8c42-4c76106d20c3"
      },
      "execution_count": 63,
      "outputs": [
        {
          "output_type": "execute_result",
          "data": {
            "text/plain": [
              "array([3, 4, 5])"
            ]
          },
          "metadata": {},
          "execution_count": 63
        }
      ]
    },
    {
      "cell_type": "code",
      "source": [
        "np.setdiff1d(m,n)"
      ],
      "metadata": {
        "colab": {
          "base_uri": "https://localhost:8080/"
        },
        "id": "tkMcAN7WYP-w",
        "outputId": "ab4d3f11-8cc0-410f-df53-5a17fc8b9a4f"
      },
      "execution_count": 64,
      "outputs": [
        {
          "output_type": "execute_result",
          "data": {
            "text/plain": [
              "array([1, 2])"
            ]
          },
          "metadata": {},
          "execution_count": 64
        }
      ]
    },
    {
      "cell_type": "code",
      "source": [
        "np.setxor1d(m, n)"
      ],
      "metadata": {
        "colab": {
          "base_uri": "https://localhost:8080/"
        },
        "id": "XxlFn1ETYUfC",
        "outputId": "1ef748c4-ad7b-4548-f00e-b0f4a8bf49eb"
      },
      "execution_count": 65,
      "outputs": [
        {
          "output_type": "execute_result",
          "data": {
            "text/plain": [
              "array([ 1,  2,  7, 67])"
            ]
          },
          "metadata": {},
          "execution_count": 65
        }
      ]
    },
    {
      "cell_type": "code",
      "source": [
        "np.in1d(m,1)"
      ],
      "metadata": {
        "colab": {
          "base_uri": "https://localhost:8080/"
        },
        "id": "D9de8VrgYYbF",
        "outputId": "79dbe1c9-d915-48a0-a4c0-b3bdb34ca18c"
      },
      "execution_count": 66,
      "outputs": [
        {
          "output_type": "execute_result",
          "data": {
            "text/plain": [
              "array([ True, False, False, False, False])"
            ]
          },
          "metadata": {},
          "execution_count": 66
        }
      ]
    },
    {
      "cell_type": "markdown",
      "source": [
        "np.clip"
      ],
      "metadata": {
        "id": "go1VbwSZYhIO"
      }
    },
    {
      "cell_type": "code",
      "source": [
        "a"
      ],
      "metadata": {
        "colab": {
          "base_uri": "https://localhost:8080/"
        },
        "id": "jiu13OLrYcV5",
        "outputId": "b1fbc218-8783-4960-b363-6e98391d6c3c"
      },
      "execution_count": 67,
      "outputs": [
        {
          "output_type": "execute_result",
          "data": {
            "text/plain": [
              "array([110, 530,  59, 343,   9,  84,  88,  29,   4,  68,  68,  86,  16,\n",
              "        37,  16])"
            ]
          },
          "metadata": {},
          "execution_count": 67
        }
      ]
    },
    {
      "cell_type": "code",
      "source": [
        "np.clip(a, a_min=25, a_max=75)"
      ],
      "metadata": {
        "colab": {
          "base_uri": "https://localhost:8080/"
        },
        "id": "_0hA8I19Yl1B",
        "outputId": "af12b7a9-5e4a-430e-b8f9-c8715eb77d3b"
      },
      "execution_count": 68,
      "outputs": [
        {
          "output_type": "execute_result",
          "data": {
            "text/plain": [
              "array([75, 75, 59, 75, 25, 75, 75, 29, 25, 68, 68, 75, 25, 37, 25])"
            ]
          },
          "metadata": {},
          "execution_count": 68
        }
      ]
    },
    {
      "cell_type": "code",
      "source": [],
      "metadata": {
        "id": "Sb9yNcwRYq2R"
      },
      "execution_count": null,
      "outputs": []
    }
  ]
}